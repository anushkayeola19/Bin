{
 "cells": [
  {
   "cell_type": "markdown",
   "id": "1a09eb22-67b2-452b-8add-b1858ce4c43e",
   "metadata": {},
   "source": [
    "# Implement Union, Intersection, Complement and Difference operations on fuzzy sets. Also create fuzzy relations by Cartesian product of any two fuzzy sets and perform max-min composition on any two fuzzy relations. "
   ]
  },
  {
   "cell_type": "code",
   "execution_count": 1,
   "id": "e46218c4-f987-47a9-97d9-2d6b8e6fd0a1",
   "metadata": {},
   "outputs": [],
   "source": [
    "A = {'x1': 0.2, 'x2': 0.4, 'x3': 0.6, 'x4': 0.8}\n",
    "B = {'x1': 0.3, 'x2': 0.5, 'x3': 0.7, 'x4': 0.9}\n",
    "\n",
    "R = {('x1', 'y1'): 0.2, ('x1', 'y2'): 0.4, ('x2', 'y1'): 0.6, ('x2', 'y2'): 0.8}\n",
    "S = {('y1', 'z1'): 0.3, ('y1', 'z2'): 0.5, ('y2', 'z1'): 0.7, ('y2', 'z2'): 0.9}"
   ]
  },
  {
   "cell_type": "code",
   "execution_count": 2,
   "id": "013abccf-c932-49ee-89f9-36c1a54d741c",
   "metadata": {},
   "outputs": [
    {
     "name": "stdout",
     "output_type": "stream",
     "text": [
      "Union: {'x1': 0.3, 'x2': 0.5, 'x3': 0.7, 'x4': 0.9}\n"
     ]
    }
   ],
   "source": [
    "def fuzzy_union(A, B):\n",
    "    union = {}\n",
    "    for key in A.keys():\n",
    "        union[key] = max(A[key], B[key])\n",
    "    return union\n",
    "\n",
    "# Example usage\n",
    "union_result = fuzzy_union(A, B)\n",
    "print(\"Union:\", union_result)"
   ]
  },
  {
   "cell_type": "code",
   "execution_count": 3,
   "id": "5e52c74b-600a-4cf4-bcc9-03d9c9ea990c",
   "metadata": {},
   "outputs": [
    {
     "name": "stdout",
     "output_type": "stream",
     "text": [
      "Intersection: {'x1': 0.2, 'x2': 0.4, 'x3': 0.6, 'x4': 0.8}\n"
     ]
    }
   ],
   "source": [
    "def fuzzy_intersection(A, B):\n",
    "    intersection = {}\n",
    "    for key in A.keys():\n",
    "        intersection[key] = min(A[key], B[key])\n",
    "    return intersection\n",
    "\n",
    "# Example usage\n",
    "intersection_result = fuzzy_intersection(A, B)\n",
    "print(\"Intersection:\", intersection_result)"
   ]
  },
  {
   "cell_type": "code",
   "execution_count": 4,
   "id": "2fd6f80f-8399-4cb2-92fd-3bb90d075feb",
   "metadata": {},
   "outputs": [
    {
     "name": "stdout",
     "output_type": "stream",
     "text": [
      "Complement A: {'x1': 0.8, 'x2': 0.6, 'x3': 0.4, 'x4': 0.19999999999999996}\n",
      "Complement B: {'x1': 0.7, 'x2': 0.5, 'x3': 0.30000000000000004, 'x4': 0.09999999999999998}\n"
     ]
    }
   ],
   "source": [
    "def fuzzy_complement(A):\n",
    "    complement = {}\n",
    "    for key in A.keys():\n",
    "        complement[key] = 1 - A[key]\n",
    "    return complement\n",
    "\n",
    "# Example usage\n",
    "complement_result_A = fuzzy_complement(A)\n",
    "complement_result_B = fuzzy_complement(B)\n",
    "print(\"Complement A:\", complement_result_A)\n",
    "print(\"Complement B:\", complement_result_B)\n"
   ]
  },
  {
   "cell_type": "code",
   "execution_count": 5,
   "id": "ac3fd5e1-4f74-43f2-8c70-7f25e9d5bf81",
   "metadata": {},
   "outputs": [
    {
     "name": "stdout",
     "output_type": "stream",
     "text": [
      "Difference: {'x1': 0.2, 'x2': 0.4, 'x3': 0.30000000000000004, 'x4': 0.09999999999999998}\n"
     ]
    }
   ],
   "source": [
    "def fuzzy_difference(A, B):\n",
    "    difference = {}\n",
    "    for key in A.keys():\n",
    "        difference[key] = min(A[key], 1 - B[key])\n",
    "    return difference\n",
    "\n",
    "# Example usage\n",
    "difference_result = fuzzy_difference(A, B)\n",
    "print(\"Difference:\", difference_result)"
   ]
  },
  {
   "cell_type": "code",
   "execution_count": 20,
   "id": "d44530f5-6ad0-4431-8604-dd558f83d518",
   "metadata": {},
   "outputs": [
    {
     "name": "stdout",
     "output_type": "stream",
     "text": [
      "Max-Min Composition: {('x1', 'z2'): 0.4, ('x1', 'z1'): 0.4, ('x2', 'z2'): 0.8, ('x2', 'z1'): 0.7}\n"
     ]
    }
   ],
   "source": [
    "def max_min_composition(R, S):\n",
    "    composition = {}\n",
    "    X = {x for x, _ in R.keys()}\n",
    "    Y = {y for _, y in R.keys()}\n",
    "    Z = {z for _, z in S.keys()}\n",
    "\n",
    "    for x in X:\n",
    "        for z in Z:\n",
    "            values = []\n",
    "            for y in Y:\n",
    "                r_val = R.get((x, y), 0)\n",
    "                s_val = S.get((y, z), 0)\n",
    "                values.append(min(r_val, s_val))\n",
    "            composition[(x, z)] = max(values)\n",
    "    return composition\n",
    "\n",
    "# Example usage\n",
    "composition_result = max_min_composition(R, S)\n",
    "print(\"Max-Min Composition:\", composition_result)"
   ]
  },
  {
   "cell_type": "code",
   "execution_count": null,
   "id": "11e96971-ba22-47b9-9721-65feca6dd8e7",
   "metadata": {},
   "outputs": [],
   "source": []
  }
 ],
 "metadata": {
  "kernelspec": {
   "display_name": "Python 3 (ipykernel)",
   "language": "python",
   "name": "python3"
  },
  "language_info": {
   "codemirror_mode": {
    "name": "ipython",
    "version": 3
   },
   "file_extension": ".py",
   "mimetype": "text/x-python",
   "name": "python",
   "nbconvert_exporter": "python",
   "pygments_lexer": "ipython3",
   "version": "3.11.11"
  }
 },
 "nbformat": 4,
 "nbformat_minor": 5
}
