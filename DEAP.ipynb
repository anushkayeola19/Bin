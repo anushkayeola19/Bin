{
 "cells": [
  {
   "cell_type": "markdown",
   "id": "f2971e88-47d5-41f7-ab2b-baf0c4259219",
   "metadata": {},
   "source": [
    "# Implement DEAP (Distributed Evolutionary Algorithms) using Python."
   ]
  },
  {
   "cell_type": "code",
   "execution_count": 2,
   "id": "637562c0-07c2-44cb-a6c3-a697238c77ff",
   "metadata": {},
   "outputs": [
    {
     "name": "stdout",
     "output_type": "stream",
     "text": [
      "Collecting deap\n",
      "  Obtaining dependency information for deap from https://files.pythonhosted.org/packages/e9/bd/654aa594a0ac14063fe591c3339062441eeda3815017e2f66d0b762cccb0/deap-1.4.2-cp311-cp311-win_amd64.whl.metadata\n",
      "  Downloading deap-1.4.2-cp311-cp311-win_amd64.whl.metadata (13 kB)\n",
      "Requirement already satisfied: numpy in c:\\users\\dell\\anaconda3\\lib\\site-packages (from deap) (1.26.4)\n",
      "Downloading deap-1.4.2-cp311-cp311-win_amd64.whl (109 kB)\n",
      "   ---------------------------------------- 0.0/109.8 kB ? eta -:--:--\n",
      "   --- ------------------------------------ 10.2/109.8 kB ? eta -:--:--\n",
      "   ------- ------------------------------- 20.5/109.8 kB 217.9 kB/s eta 0:00:01\n",
      "   ------- ------------------------------- 20.5/109.8 kB 217.9 kB/s eta 0:00:01\n",
      "   -------------- ------------------------ 41.0/109.8 kB 219.4 kB/s eta 0:00:01\n",
      "   -------------- ------------------------ 41.0/109.8 kB 219.4 kB/s eta 0:00:01\n",
      "   -------------- ------------------------ 41.0/109.8 kB 219.4 kB/s eta 0:00:01\n",
      "   -------------- ------------------------ 41.0/109.8 kB 219.4 kB/s eta 0:00:01\n",
      "   -------------- ------------------------ 41.0/109.8 kB 219.4 kB/s eta 0:00:01\n",
      "   --------------------- ----------------- 61.4/109.8 kB 131.3 kB/s eta 0:00:01\n",
      "   -------------------------------- ------ 92.2/109.8 kB 187.5 kB/s eta 0:00:01\n",
      "   -------------------------------- ------ 92.2/109.8 kB 187.5 kB/s eta 0:00:01\n",
      "   -------------------------------------- 109.8/109.8 kB 193.4 kB/s eta 0:00:00\n",
      "Installing collected packages: deap\n",
      "Successfully installed deap-1.4.2\n"
     ]
    }
   ],
   "source": [
    "!pip install deap"
   ]
  },
  {
   "cell_type": "code",
   "execution_count": 1,
   "id": "7d639c81-950a-49dc-bbe8-483d3a5a2198",
   "metadata": {},
   "outputs": [],
   "source": [
    "import random\n",
    "from deap import creator, base, tools, algorithms"
   ]
  },
  {
   "cell_type": "markdown",
   "id": "320451bc-ca3f-40be-b6e5-9bedced64209",
   "metadata": {},
   "source": [
    "deap.creator: Used to define new types like Fitness and Individual.\n",
    "\n",
    "deap.base: Contains the Toolbox where we register evolutionary operators.\n",
    "\n",
    "deap.tools: Contains ready-made evolutionary operators like crossover, mutation, selection.\n",
    "\n",
    "deap.algorithms: Contains some standard algorithms like varAnd"
   ]
  },
  {
   "cell_type": "code",
   "execution_count": 2,
   "id": "41728b99-1d0c-4c27-8448-c5d84723dd21",
   "metadata": {},
   "outputs": [],
   "source": [
    "creator.create(\"FitnessMax\", base.Fitness, weights=(1.0,))\n",
    "creator.create(\"Individual\", list, fitness=creator.FitnessMax)"
   ]
  },
  {
   "cell_type": "markdown",
   "id": "e4c09af6-45ab-4de8-9e73-74d3ead7f752",
   "metadata": {},
   "source": [
    "An Individual = a list of 100 numbers (0 or 1).\n",
    "\n",
    "Fitness = how good the individual is. For us, that means: how many 1s are in the list?"
   ]
  },
  {
   "cell_type": "code",
   "execution_count": 3,
   "id": "666068c8-65d5-4379-9075-c9fa31fb3515",
   "metadata": {},
   "outputs": [],
   "source": [
    "toolbox = base.Toolbox()\n",
    "\n",
    "toolbox.register(\"attr_bool\", random.randint, 0, 1)\n",
    "toolbox.register(\"individual\", tools.initRepeat, creator.Individual, toolbox.attr_bool, n=100)\n",
    "toolbox.register(\"population\", tools.initRepeat, list, toolbox.individual)"
   ]
  },
  {
   "cell_type": "markdown",
   "id": "e4cd8cf3-343b-4c61-944e-65a9963a6784",
   "metadata": {},
   "source": [
    "Toolbox: Think of toolbox as the factory where you register how to create individuals and apply evolutionary operators.\n",
    "\n",
    "attr_bool: Creates a random 0 or 1. This is our gene generator.\n",
    "\n",
    "individual: Creates an Individual with 100 random 0s or 1s. Uses initRepeat to repeat attr_bool 100 times.\n",
    "\n",
    "population: Creates a population (a list of individuals)."
   ]
  },
  {
   "cell_type": "code",
   "execution_count": 4,
   "id": "ce3bd38c-97f7-413c-85e5-3ba106d7f697",
   "metadata": {},
   "outputs": [],
   "source": [
    "def evalOneMax(individual):\n",
    "    return sum(individual),"
   ]
  },
  {
   "cell_type": "markdown",
   "id": "f1c75883-9c79-430c-af73-7de40e40471e",
   "metadata": {},
   "source": [
    "For the OneMax problem, we simply count how many 1s are in the individual. The , makes sure it returns a tuple (because DEAP expects fitness as a tuple)."
   ]
  },
  {
   "cell_type": "code",
   "execution_count": 5,
   "id": "1e6d40f4-ec6d-4744-99eb-3decfd70207e",
   "metadata": {},
   "outputs": [],
   "source": [
    "toolbox.register(\"evaluate\", evalOneMax)\n",
    "toolbox.register(\"mate\", tools.cxTwoPoint)\n",
    "toolbox.register(\"mutate\", tools.mutFlipBit, indpb=0.05)\n",
    "toolbox.register(\"select\", tools.selTournament, tournsize=3)\n",
    "\n",
    "population = toolbox.population(n=300)"
   ]
  },
  {
   "cell_type": "markdown",
   "id": "c8f60f13-33a4-447c-8ab1-f3ad8af1f2e0",
   "metadata": {},
   "source": [
    "Evaluate by counting 1s.\n",
    "\n",
    "Mate (combine two lists) using 2-point crossover.\n",
    "\n",
    "Mutate (flip 0 to 1 or 1 to 0) with a small chance (5%).\n",
    "\n",
    "Select using tournaments (pick the best out of 3 random lists).\n",
    "\n",
    "We start with 300 random lists (each 100 numbers long)."
   ]
  },
  {
   "cell_type": "code",
   "execution_count": 8,
   "id": "11f28f3b-a7b8-475c-a632-65101f2a0a9e",
   "metadata": {},
   "outputs": [
    {
     "name": "stdout",
     "output_type": "stream",
     "text": [
      "100\n"
     ]
    }
   ],
   "source": [
    "NGEN=40\n",
    "for gen in range(NGEN):\n",
    "    offspring = algorithms.varAnd(population, toolbox, cxpb=0.5, mutpb=0.1)\n",
    "    fits = toolbox.map(toolbox.evaluate, offspring)\n",
    "    for fit, ind in zip(fits, offspring):\n",
    "        ind.fitness.values = fit\n",
    "    population = toolbox.select(offspring, k=len(population))\n",
    "top10 = tools.selBest(population, k=10) # We get the top 10 best lists \n",
    "print(len(top10[0]))"
   ]
  },
  {
   "cell_type": "markdown",
   "id": "1f2d333e-c12e-4d5d-8120-67de5545e665",
   "metadata": {},
   "source": [
    "We run for 40 generations (like 40 rounds).\n",
    "\n",
    "50% chance for crossover (mixing lists),\n",
    "\n",
    "10% chance for mutation (flipping bits).\n",
    "\n",
    "Count the 1s in each child list.\n",
    "\n",
    "Pick the best lists to be the new parents"
   ]
  },
  {
   "cell_type": "code",
   "execution_count": 9,
   "id": "7d3be04c-2fab-4474-820c-6be54aab7f8d",
   "metadata": {},
   "outputs": [
    {
     "name": "stdout",
     "output_type": "stream",
     "text": [
      "Best fitness: 99.0\n"
     ]
    }
   ],
   "source": [
    "print(\"Best fitness:\", top10[0].fitness.values[0])"
   ]
  },
  {
   "cell_type": "markdown",
   "id": "40be53bb-6525-4223-ba66-4c9493284f92",
   "metadata": {},
   "source": [
    "Q: What is DEAP in Python?\n",
    "A: DEAP (Distributed Evolutionary Algorithms in Python) is a library used for creating evolutionary algorithms like genetic algorithms (GA), genetic programming (GP), and evolution strategies.\n",
    "\n",
    "Q: What is the objective of the code you provided?\n",
    "A: The goal is to evolve a population of binary individuals to maximize the sum of 1s in the list — known as the OneMax problem.\n",
    "\n",
    "Q: What is the OneMax problem?\n",
    "A: It’s a classic optimization problem where the fitness of a binary string is the number of 1s it contains. The optimal solution is a string of all 1s.\n",
    "\n",
    "Q: What will happen if we set mutation probability to 0?\n",
    "A: The algorithm may converge prematurely and get stuck in sub-optimal solutions because mutation adds diversity.\n",
    "\n",
    "Q: Why is tournament selection used instead of random selection?\n",
    "A: It maintains a balance between selective pressure and diversity. It gives a better chance for fitter individuals to survive."
   ]
  },
  {
   "cell_type": "code",
   "execution_count": null,
   "id": "3c98f349-e836-495c-b97b-48cbfb844cf4",
   "metadata": {},
   "outputs": [],
   "source": []
  }
 ],
 "metadata": {
  "kernelspec": {
   "display_name": "Python 3 (ipykernel)",
   "language": "python",
   "name": "python3"
  },
  "language_info": {
   "codemirror_mode": {
    "name": "ipython",
    "version": 3
   },
   "file_extension": ".py",
   "mimetype": "text/x-python",
   "name": "python",
   "nbconvert_exporter": "python",
   "pygments_lexer": "ipython3",
   "version": "3.11.11"
  }
 },
 "nbformat": 4,
 "nbformat_minor": 5
}
