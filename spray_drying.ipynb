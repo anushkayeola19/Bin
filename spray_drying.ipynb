{
 "cells": [
  {
   "cell_type": "markdown",
   "id": "32338730-8599-4209-8694-287cdb598fd7",
   "metadata": {},
   "source": [
    "# Optimization of genetic algorithm parameter in hybrid genetic algorithm-neural network modelling: Application to spray drying of coconut milk."
   ]
  },
  {
   "cell_type": "code",
   "execution_count": 2,
   "id": "e43050bd-9062-4513-8875-5afe6e71c0e0",
   "metadata": {},
   "outputs": [
    {
     "name": "stdout",
     "output_type": "stream",
     "text": [
      "Collecting geneticalgorithm\n",
      "  Obtaining dependency information for geneticalgorithm from https://files.pythonhosted.org/packages/ac/d2/fb9061239eaeee5c0373844f27f43514f33201bc08aea54d65b437402966/geneticalgorithm-1.0.2-py3-none-any.whl.metadata\n",
      "  Downloading geneticalgorithm-1.0.2-py3-none-any.whl.metadata (25 kB)\n",
      "Collecting func-timeout (from geneticalgorithm)\n",
      "  Downloading func_timeout-4.3.5.tar.gz (44 kB)\n",
      "     ---------------------------------------- 0.0/44.3 kB ? eta -:--:--\n",
      "     ---------------------------------------- 0.0/44.3 kB ? eta -:--:--\n",
      "     ---------------------------------------- 0.0/44.3 kB ? eta -:--:--\n",
      "     --------- ------------------------------ 10.2/44.3 kB ? eta -:--:--\n",
      "     --------- ------------------------------ 10.2/44.3 kB ? eta -:--:--\n",
      "     --------- ------------------------------ 10.2/44.3 kB ? eta -:--:--\n",
      "     --------- ------------------------------ 10.2/44.3 kB ? eta -:--:--\n",
      "     --------- ------------------------------ 10.2/44.3 kB ? eta -:--:--\n",
      "     --------- ------------------------------ 10.2/44.3 kB ? eta -:--:--\n",
      "     --------- ------------------------------ 10.2/44.3 kB ? eta -:--:--\n",
      "     --------- ------------------------------ 10.2/44.3 kB ? eta -:--:--\n",
      "     --------- ------------------------------ 10.2/44.3 kB ? eta -:--:--\n",
      "     --------- ------------------------------ 10.2/44.3 kB ? eta -:--:--\n",
      "     --------- ------------------------------ 10.2/44.3 kB ? eta -:--:--\n",
      "     --------- ------------------------------ 10.2/44.3 kB ? eta -:--:--\n",
      "     --------- ------------------------------ 10.2/44.3 kB ? eta -:--:--\n",
      "     --------------------------------------- 44.3/44.3 kB 62.2 kB/s eta 0:00:00\n",
      "  Preparing metadata (setup.py): started\n",
      "  Preparing metadata (setup.py): finished with status 'done'\n",
      "Requirement already satisfied: numpy in c:\\users\\dell\\anaconda3\\lib\\site-packages (from geneticalgorithm) (1.26.4)\n",
      "Downloading geneticalgorithm-1.0.2-py3-none-any.whl (16 kB)\n",
      "Building wheels for collected packages: func-timeout\n",
      "  Building wheel for func-timeout (setup.py): started\n",
      "  Building wheel for func-timeout (setup.py): finished with status 'done'\n",
      "  Created wheel for func-timeout: filename=func_timeout-4.3.5-py3-none-any.whl size=15110 sha256=08354ccb07bbb91804966828707beb4d4d7377e0154da43a5346c84081da26fb\n",
      "  Stored in directory: c:\\users\\dell\\appdata\\local\\pip\\cache\\wheels\\07\\e6\\86\\f23164d12c3134966614102db8e7956ab359faf7ffd78703ce\n",
      "Successfully built func-timeout\n",
      "Installing collected packages: func-timeout, geneticalgorithm\n",
      "Successfully installed func-timeout-4.3.5 geneticalgorithm-1.0.2\n"
     ]
    }
   ],
   "source": [
    "!pip install geneticalgorithm"
   ]
  },
  {
   "cell_type": "code",
   "execution_count": 3,
   "id": "dbfc6585-c74f-4c3e-917d-6920f91ea5cb",
   "metadata": {},
   "outputs": [],
   "source": [
    "# Import necessary libraries\n",
    "import numpy as np\n",
    "from sklearn.model_selection import train_test_split\n",
    "from sklearn.preprocessing import StandardScaler\n",
    "from sklearn.neural_network import MLPRegressor\n",
    "from geneticalgorithm import geneticalgorithm as ga\n",
    "import warnings"
   ]
  },
  {
   "cell_type": "markdown",
   "id": "f6ccfade-b51f-4e92-a074-151ea1d83c11",
   "metadata": {},
   "source": [
    "numpy: Used for creating and handling numerical data.\n",
    "\n",
    "train_test_split: Splits your dataset into training and validation sets.\n",
    "\n",
    "MLPRegressor: This is your neural network model for regression tasks.\n",
    "\n",
    "geneticalgorithm: This library lets you perform optimization using Genetic Algorithm (GA).\n",
    "\n",
    "warnings: To suppress any unwanted warnings during model training.\n"
   ]
  },
  {
   "cell_type": "code",
   "execution_count": 4,
   "id": "cb8d985e-937f-4d0a-bf97-23da188d402b",
   "metadata": {},
   "outputs": [],
   "source": [
    "# Define functions for genetic algorithm fitness evaluation and neural network training\n",
    "def fitness_function(params):\n",
    "    # Decode parameters\n",
    "    hidden_layer_sizes = (int(params[0]),) * int(params[1])\n",
    "    activation = ['identity', 'logistic', 'tanh', 'relu'][int(params[2])]\n",
    "    solver = ['lbfgs', 'sgd', 'adam'][int(params[3])]\n",
    "    \n",
    "    # Create and train neural network\n",
    "    model = MLPRegressor(hidden_layer_sizes=hidden_layer_sizes, activation=activation, solver=solver)\n",
    "    model.fit(X_train, y_train)\n",
    "    \n",
    "    # Evaluate fitness (example: mean squared error)\n",
    "    fitness = -model.score(X_val, y_val)\n",
    "    \n",
    "    return fitness"
   ]
  },
  {
   "cell_type": "markdown",
   "id": "1c416dd0-068f-4135-859b-abe4bfbeb49e",
   "metadata": {},
   "source": [
    "params is a list of numbers the GA is trying to optimize:\n",
    "\n",
    "params[0]: Number of neurons in each hidden layer.\n",
    "\n",
    "params[1]: Number of hidden layers.\n",
    "\n",
    "params[2]: Activation function (0=identity, 1=logistic, 2=tanh, 3=relu).\n",
    "\n",
    "params[3]: Solver (0=lbfgs, 1=sgd, 2=adam)."
   ]
  },
  {
   "cell_type": "code",
   "execution_count": 5,
   "id": "d9730fe8-a566-4cf1-987b-e7d3d60ced2f",
   "metadata": {},
   "outputs": [],
   "source": [
    "def train_neural_network(params):\n",
    "    # Decode parameters\n",
    "    hidden_layer_sizes = (int(params[0]),) * int(params[1])\n",
    "    activation = ['identity', 'logistic', 'tanh', 'relu'][int(params[2])]\n",
    "    solver = ['lbfgs', 'sgd', 'adam'][int(params[3])]\n",
    "    \n",
    "    # Create and train neural network\n",
    "    model = MLPRegressor(hidden_layer_sizes=hidden_layer_sizes, activation=activation, solver=solver)\n",
    "    model.fit(X_train, y_train)\n",
    "    \n",
    "    # Evaluate neural network performance on validation data\n",
    "    validation_error = -model.score(X_val, y_val)\n",
    "    \n",
    "    return validation_error"
   ]
  },
  {
   "cell_type": "code",
   "execution_count": 6,
   "id": "4d78c8cb-1a2f-4be1-b93a-ff73ef5ee01a",
   "metadata": {},
   "outputs": [],
   "source": [
    "# Load your dataset\n",
    "np.random.seed(42)\n",
    "\n",
    "# Assuming you have features like temperature, humidity, etc., and you want to predict drying time\n",
    "num_samples = 1000\n",
    "num_features = 5  # Adjust based on your actual features\n",
    "\n",
    "# Generate synthetic features\n",
    "X = np.random.rand(num_samples, num_features)\n",
    "\n",
    "# Generate synthetic target variable (drying time)\n",
    "# Here, we'll assume a linear relationship with some noise\n",
    "true_coefficients = np.random.rand(num_features) * 10  # Random coefficients for features\n",
    "noise = np.random.normal(loc=0, scale=1, size=num_samples)  # Gaussian noise\n",
    "y = np.dot(X, true_coefficients) + noise"
   ]
  },
  {
   "cell_type": "code",
   "execution_count": 7,
   "id": "dda2b21f-0ff3-460c-87cc-41c6de7a819b",
   "metadata": {},
   "outputs": [
    {
     "name": "stdout",
     "output_type": "stream",
     "text": [
      " The best solution found:                                                                           \n",
      " [32.  3.  3.  1.]\n",
      "\n",
      " Objective function:\n",
      " -0.9542020528953552\n"
     ]
    },
    {
     "data": {
      "image/png": "[encoded data removed]",
      "text/plain": [
       "<Figure size 640x480 with 1 Axes>"
      ]
     },
     "metadata": {},
     "output_type": "display_data"
    }
   ],
   "source": [
    "# Example: Replace X_train, X_val, y_train, y_val with your dataset\n",
    "X_train, X_val, y_train, y_val = train_test_split(X, y, test_size=0.2, random_state=42)\n",
    "\n",
    "warnings.filterwarnings(\"ignore\")\n",
    "\n",
    "# Define genetic algorithm parameters\n",
    "number_of_parameters = 4  # Adjust based on the number of parameters you want to optimize\n",
    "varbound = np.array([[5, 50],  # Range for number of neurons in each hidden layer\n",
    "                     [1, 5],    # Range for number of hidden layers\n",
    "                     [0, 3],    # Activation function: 0 for identity, 1 for logistic, 2 for tanh, 3 for relu\n",
    "                     [0, 2]])   # Solver: 0 for lbfgs, 1 for sgd, 2 for adam\n",
    "algorithm_param = {'max_num_iteration': 1, 'population_size': 100, 'mutation_probability': 0.1,\n",
    "                   'elit_ratio': 0.01, 'crossover_probability': 0.5, 'parents_portion': 0.3,\n",
    "                   'crossover_type': 'uniform', 'max_iteration_without_improv': None}\n",
    "model = ga(function=fitness_function, dimension=number_of_parameters, variable_type='int', variable_boundaries=varbound,\n",
    "           algorithm_parameters=algorithm_param)\n",
    "\n",
    "# Run the genetic algorithm\n",
    "model.run()"
   ]
  },
  {
   "cell_type": "code",
   "execution_count": 8,
   "id": "bbbdf757-ac22-4e61-b774-47fbf20a11c8",
   "metadata": {},
   "outputs": [
    {
     "name": "stdout",
     "output_type": "stream",
     "text": [
      "Best parameters found by genetic algorithm: [32.  3.  3.  1.]\n",
      "Validation error of neural network: -0.9529522583523036\n"
     ]
    }
   ],
   "source": [
    "# Get the best parameters found by the genetic algorithm\n",
    "best_params = model.output_dict['variable']\n",
    "\n",
    "# Train neural network with the best parameters\n",
    "validation_error = train_neural_network(best_params)\n",
    "\n",
    "print(\"Best parameters found by genetic algorithm:\", best_params)\n",
    "print(\"Validation error of neural network:\", validation_error)\n",
    "\n",
    "# Optionally, you can further evaluate the neural network on a test set\n",
    "# and perform any additional analysis or visualization"
   ]
  },
  {
   "cell_type": "code",
   "execution_count": null,
   "id": "67abf41e-8a80-4e96-8bc6-532396bb2625",
   "metadata": {},
   "outputs": [],
   "source": []
  }
 ],
 "metadata": {
  "kernelspec": {
   "display_name": "Python 3 (ipykernel)",
   "language": "python",
   "name": "python3"
  },
  "language_info": {
   "codemirror_mode": {
    "name": "ipython",
    "version": 3
   },
   "file_extension": ".py",
   "mimetype": "text/x-python",
   "name": "python",
   "nbconvert_exporter": "python",
   "pygments_lexer": "ipython3",
   "version": "3.11.11"
  }
 },
 "nbformat": 4,
 "nbformat_minor": 5
}
