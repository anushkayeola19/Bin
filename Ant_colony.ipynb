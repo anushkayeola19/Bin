{
 "cells": [
  {
   "cell_type": "markdown",
   "id": "6503c7cc-9432-4690-8b89-b367d1fe3e27",
   "metadata": {},
   "source": [
    "# Implement Ant colony optimization by solving the Traveling salesman problem using python  \n",
    "# Problem statement- A salesman needs to visit a set of cities exactly once and return to the original city. The task is to find the shortest possible route that the salesman can take to visit all the cities and return to the starting city."
   ]
  },
  {
   "cell_type": "code",
   "execution_count": 1,
   "id": "2786bb0c-f150-4034-a71f-3b595ddaf52d",
   "metadata": {},
   "outputs": [],
   "source": [
    "import numpy as np"
   ]
  },
  {
   "cell_type": "code",
   "execution_count": 9,
   "id": "67b69518-93c8-4c2a-bd36-f2f43b983f03",
   "metadata": {},
   "outputs": [],
   "source": [
    "# Function to calculate distance between two cities\n",
    "def distance(city1, city2):\n",
    "    return np.linalg.norm(city1 - city2) #euclidean distance\n",
    "\n",
    "# Function to initialize pheromone trails\n",
    "def init_pheromone(num_cities):\n",
    "    return np.ones((num_cities, num_cities)) #This is the initial \"trail\" strength ants will use for guidance."
   ]
  },
  {
   "cell_type": "code",
   "execution_count": 10,
   "id": "63a8dce8-dbf0-4d98-8f45-c5dde8692294",
   "metadata": {},
   "outputs": [],
   "source": [
    "# Function to update pheromone trails\n",
    "# rho = how quickly the ants forget old paths.\n",
    "def update_pheromone(pheromone, delta_pheromone, rho):\n",
    "    return (1 - rho) * pheromone + delta_pheromone"
   ]
  },
  {
   "cell_type": "code",
   "execution_count": 4,
   "id": "b9baf663-c2d5-446d-bee7-c6654a342775",
   "metadata": {},
   "outputs": [],
   "source": [
    "# Function to perform ant movement\n",
    "def ant_movement(num_ants, pheromone, distances, alpha, beta):\n",
    "    num_cities = len(distances)\n",
    "    paths = []\n",
    "    for ant in range(num_ants):\n",
    "        path = []\n",
    "        visited = set()\n",
    "        current_city = np.random.randint(num_cities)\n",
    "        visited.add(current_city)\n",
    "        path.append(current_city)\n",
    "        while len(visited) < num_cities:\n",
    "            probabilities = []\n",
    "            for city in range(num_cities):\n",
    "                if city not in visited:\n",
    "                    pheromone_factor = pheromone[current_city][city] ** alpha\n",
    "                    distance_factor = (1.0 / distances[current_city][city]) ** beta\n",
    "                    probabilities.append((city, pheromone_factor * distance_factor))\n",
    "            probabilities = np.array(probabilities)\n",
    "            probabilities[:, 1] /= np.sum(probabilities[:, 1])\n",
    "            next_city = np.random.choice(probabilities[:, 0], p=probabilities[:, 1])\n",
    "            visited.add(next_city)\n",
    "            path.append(int(next_city))\n",
    "            current_city = int(next_city)\n",
    "        paths.append(path)\n",
    "    return paths"
   ]
  },
  {
   "cell_type": "code",
   "execution_count": 5,
   "id": "ce99415f-17a1-4a2f-87db-0f5fb0912b77",
   "metadata": {},
   "outputs": [],
   "source": [
    "# Function to calculate total distance of a path\n",
    "def total_distance(path, distances):\n",
    "    total = 0\n",
    "    num_cities = len(path)\n",
    "    for i in range(num_cities - 1):\n",
    "        total += distances[path[i]][path[i + 1]]\n",
    "    total += distances[path[-1]][path[0]]\n",
    "    return total"
   ]
  },
  {
   "cell_type": "code",
   "execution_count": 6,
   "id": "550914cb-0511-476b-a201-c91d92b3a24f",
   "metadata": {},
   "outputs": [],
   "source": [
    "# Function to evaporate pheromone trails\n",
    "def evaporate_pheromone(pheromone, evaporation_rate):\n",
    "    return (1 - evaporation_rate) * pheromone"
   ]
  },
  {
   "cell_type": "code",
   "execution_count": 7,
   "id": "87db545d-067f-4cc8-8fad-b044a15d4560",
   "metadata": {},
   "outputs": [],
   "source": [
    "# Function to solve TSP using Ant Colony Optimization\n",
    "def solve_tsp(num_cities, num_ants, iterations, alpha, beta, rho, evaporation_rate):\n",
    "    cities = np.random.rand(num_cities, 2)  # Generate random cities\n",
    "    distances = np.zeros((num_cities, num_cities))\n",
    "    for i in range(num_cities):\n",
    "        for j in range(i + 1, num_cities):\n",
    "            dist = distance(cities[i], cities[j])\n",
    "            distances[i][j] = dist\n",
    "            distances[j][i] = dist\n",
    "    \n",
    "    pheromone = init_pheromone(num_cities)\n",
    "    best_distance = float('inf')\n",
    "    best_path = None\n",
    "    \n",
    "    for _ in range(iterations):\n",
    "        paths = ant_movement(num_ants, pheromone, distances, alpha, beta)\n",
    "        for path in paths:\n",
    "            path_distance = total_distance(path, distances)\n",
    "            if path_distance < best_distance:\n",
    "                best_distance = path_distance\n",
    "                best_path = path\n",
    "        delta_pheromone = np.zeros((num_cities, num_cities))\n",
    "        for path in paths:\n",
    "            for i in range(num_cities - 1):\n",
    "                delta_pheromone[path[i]][path[i + 1]] += 1 / total_distance(path, distances)\n",
    "            delta_pheromone[path[-1]][path[0]] += 1 / total_distance(path, distances)\n",
    "        pheromone = update_pheromone(pheromone, delta_pheromone, rho)\n",
    "        pheromone = evaporate_pheromone(pheromone, evaporation_rate)\n",
    "    \n",
    "    return best_distance, best_path"
   ]
  },
  {
   "cell_type": "code",
   "execution_count": 8,
   "id": "78b8b520-451f-4256-a0c7-1188990dc021",
   "metadata": {},
   "outputs": [
    {
     "name": "stdout",
     "output_type": "stream",
     "text": [
      "Shortest distance: 4.391679421576379\n",
      "Best path: [16, 0, 2, 19, 7, 10, 3, 15, 6, 4, 5, 13, 18, 1, 14, 17, 8, 9, 11, 12]\n"
     ]
    }
   ],
   "source": [
    "# Example usage\n",
    "num_cities = 20\n",
    "num_ants = 10\n",
    "iterations = 100\n",
    "alpha = 1.0\n",
    "beta = 2.0\n",
    "rho = 0.1\n",
    "evaporation_rate = 0.1\n",
    "\n",
    "best_distance, best_path = solve_tsp(num_cities, num_ants, iterations, alpha, beta, rho, evaporation_rate)\n",
    "print(f\"Shortest distance: {best_distance}\")\n",
    "print(f\"Best path: {best_path}\")"
   ]
  },
  {
   "cell_type": "markdown",
   "id": "9403d58d-b7d5-4c8c-a06d-21f8f16358e7",
   "metadata": {},
   "source": [
    "1. What is the Traveling Salesman Problem (TSP)?\n",
    "TSP is a problem where a salesman must visit a set of cities exactly once and return to the starting city while traveling the shortest possible distance.\n",
    "\n",
    "2. What is Ant Colony Optimization (ACO)?\n",
    "ACO is an optimization algorithm inspired by the behavior of real ants that find the shortest path between their colony and food sources using pheromone trails.\n",
    "\n",
    "3. How does ACO solve the TSP?\n",
    "ACO simulates multiple ants that explore different routes between cities. They deposit pheromones on good paths, and over time, more ants follow the best (shortest) path found.\n",
    "\n",
    "4. What is the role of pheromone in ACO?\n",
    "Pheromones guide ants in selecting paths. Stronger pheromone trails increase the probability that ants will choose that path."
   ]
  },
  {
   "cell_type": "code",
   "execution_count": null,
   "id": "442eec3a-b0fd-47ec-9c4e-5504f7627eed",
   "metadata": {},
   "outputs": [],
   "source": []
  }
 ],
 "metadata": {
  "kernelspec": {
   "display_name": "Python 3 (ipykernel)",
   "language": "python",
   "name": "python3"
  },
  "language_info": {
   "codemirror_mode": {
    "name": "ipython",
    "version": 3
   },
   "file_extension": ".py",
   "mimetype": "text/x-python",
   "name": "python",
   "nbconvert_exporter": "python",
   "pygments_lexer": "ipython3",
   "version": "3.11.11"
  }
 },
 "nbformat": 4,
 "nbformat_minor": 5
}
