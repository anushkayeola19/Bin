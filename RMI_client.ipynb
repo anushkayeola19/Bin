{
 "cells": [
  {
   "cell_type": "code",
   "execution_count": 1,
   "id": "aae3317b-ae3c-4ae1-8682-2029ca588704",
   "metadata": {},
   "outputs": [
    {
     "name": "stdin",
     "output_type": "stream",
     "text": [
      "Enter first string:  anushka\n",
      "Enter second string:  yeola\n"
     ]
    },
    {
     "name": "stdout",
     "output_type": "stream",
     "text": [
      "Concatenated result: anushkayeola\n"
     ]
    }
   ],
   "source": [
    "# CLIENT CELL\n",
    "\n",
    "import Pyro4\n",
    "\n",
    "# Paste the URI from the server output\n",
    "uri = \"PYRO:obj_aac9a71ed90c4f14bfe81050c7ff022d@localhost:60528\"  # Replace with your actual URI\n",
    "\n",
    "proxy = Pyro4.Proxy(uri)\n",
    "\n",
    "str1 = input(\"Enter first string: \")\n",
    "str2 = input(\"Enter second string: \")\n",
    "\n",
    "result = proxy.concatenate(str1, str2)\n",
    "print(\"Concatenated result:\", result)\n"
   ]
  },
  {
   "cell_type": "code",
   "execution_count": null,
   "id": "e3d72b2e-b546-44fe-bc7e-bb19ccdf48e2",
   "metadata": {},
   "outputs": [],
   "source": []
  }
 ],
 "metadata": {
  "kernelspec": {
   "display_name": "Python 3 (ipykernel)",
   "language": "python",
   "name": "python3"
  },
  "language_info": {
   "codemirror_mode": {
    "name": "ipython",
    "version": 3
   },
   "file_extension": ".py",
   "mimetype": "text/x-python",
   "name": "python",
   "nbconvert_exporter": "python",
   "pygments_lexer": "ipython3",
   "version": "3.11.11"
  }
 },
 "nbformat": 4,
 "nbformat_minor": 5
}
