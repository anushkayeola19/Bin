{
 "cells": [
  {
   "cell_type": "markdown",
   "id": "0fa1a8a5-03d2-483a-9680-ae99b83dc0b4",
   "metadata": {},
   "source": [
    "# Write code to simulate requests coming from clients and distribute them among the servers using the load balancing algorithms. "
   ]
  },
  {
   "cell_type": "code",
   "execution_count": 6,
   "id": "393ecfcb-4e94-47e0-b242-56d79105755a",
   "metadata": {},
   "outputs": [],
   "source": [
    "def create_server(name, weight):\n",
    "    return {\"name\": name, \"weight\": weight}\n",
    "\n",
    "def create_load_balancer(servers):\n",
    "    return {\"servers\": servers, \"current_index\": 0} #Keeps track of current_index → tells which server to assign next.\n",
    "\n",
    "def add_server(load_balancer, server):\n",
    "    load_balancer[\"servers\"].append(server)"
   ]
  },
  {
   "cell_type": "code",
   "execution_count": 7,
   "id": "2be14fd4-decf-4a85-a07f-39c63ba11e4f",
   "metadata": {},
   "outputs": [],
   "source": [
    "def get_next_server(load_balancer):\n",
    "    next_server = load_balancer[\"servers\"][load_balancer[\"current_index\"]]\n",
    "    load_balancer[\"current_index\"] = (load_balancer[\"current_index\"] + 1) % len(load_balancer[\"servers\"])\n",
    "    return next_server"
   ]
  },
  {
   "cell_type": "code",
   "execution_count": 8,
   "id": "f4c55076-da9e-4a1d-8e04-03d3f8deae29",
   "metadata": {},
   "outputs": [],
   "source": [
    "def prompt_server_info(index):\n",
    "    name = input(\"Enter the name of server \" + str(index) + \": \")\n",
    "    weight = int(input(\"Enter the weight of server \" + str(index) + \": \"))\n",
    "    return create_server(name, weight)"
   ]
  },
  {
   "cell_type": "code",
   "execution_count": 9,
   "id": "d69bd3a4-07a4-423c-b066-dc7c5b28c38f",
   "metadata": {},
   "outputs": [],
   "source": [
    "def assign_load(load_balancer, i):\n",
    "    next_server = get_next_server(load_balancer)\n",
    "    print(\"Load\", i, \"assigned to server:\", next_server[\"name\"])"
   ]
  },
  {
   "cell_type": "code",
   "execution_count": 10,
   "id": "56622ef4-6330-4acf-9ae2-0197893fb5ee",
   "metadata": {},
   "outputs": [
    {
     "name": "stdin",
     "output_type": "stream",
     "text": [
      "Enter the number of servers:  5\n",
      "Enter the name of server 1:  server 1\n",
      "Enter the weight of server 1:  3\n",
      "Enter the name of server 2:  server 2\n",
      "Enter the weight of server 2:  5\n",
      "Enter the name of server 3:  server 3\n",
      "Enter the weight of server 3:  1\n",
      "Enter the name of server 4:  server 4\n",
      "Enter the weight of server 4:  2\n",
      "Enter the name of server 5:  server 5\n",
      "Enter the weight of server 5:  4\n",
      "Enter the number of loads:  8\n"
     ]
    },
    {
     "name": "stdout",
     "output_type": "stream",
     "text": [
      "\n",
      "Load balancing result:\n",
      "Load 1 assigned to server: server 1\n",
      "Load 2 assigned to server: server 2\n",
      "Load 3 assigned to server: server 3\n",
      "Load 4 assigned to server: server 4\n",
      "Load 5 assigned to server: server 5\n",
      "Load 6 assigned to server: server 1\n",
      "Load 7 assigned to server: server 2\n",
      "Load 8 assigned to server: server 3\n"
     ]
    }
   ],
   "source": [
    "if __name__ == \"__main__\":\n",
    "    servers = []\n",
    "    num_servers = int(input(\"Enter the number of servers: \"))\n",
    "    for i in range(1, num_servers + 1):\n",
    "        servers.append(prompt_server_info(i))\n",
    "\n",
    "    lb = create_load_balancer(servers)\n",
    "\n",
    "    num_loads = int(input(\"Enter the number of loads: \"))\n",
    "\n",
    "    print(\"\\nLoad balancing result:\")\n",
    "    for i in range(1, num_loads + 1):\n",
    "        assign_load(lb, i)"
   ]
  },
  {
   "cell_type": "markdown",
   "id": "8cd2ead1-c71b-4731-981c-d74c29dfddc2",
   "metadata": {},
   "source": [
    "Q: What is Load Balancing?\n",
    "A: Load Balancing is the process of distributing incoming network traffic or requests across multiple servers to ensure no single server gets overloaded and to improve performance and reliability.\n",
    "\n",
    "Q: What is Round Robin Load Balancing?\n",
    "A: Round Robin Load Balancing assigns each incoming request to the next server in the list in order, and then cycles back to the start when it reaches the end.\n",
    "\n",
    "Q: What is Weighted Round Robin Load Balancing?\n",
    "A: Weighted Round Robin assigns requests based on server weights. Servers with higher weights get more requests than those with lower weights."
   ]
  },
  {
   "cell_type": "code",
   "execution_count": null,
   "id": "46acf16d-3957-4a5a-8822-9e0724a2168c",
   "metadata": {},
   "outputs": [],
   "source": []
  }
 ],
 "metadata": {
  "kernelspec": {
   "display_name": "Python 3 (ipykernel)",
   "language": "python",
   "name": "python3"
  },
  "language_info": {
   "codemirror_mode": {
    "name": "ipython",
    "version": 3
   },
   "file_extension": ".py",
   "mimetype": "text/x-python",
   "name": "python",
   "nbconvert_exporter": "python",
   "pygments_lexer": "ipython3",
   "version": "3.11.11"
  }
 },
 "nbformat": 4,
 "nbformat_minor": 5
}
