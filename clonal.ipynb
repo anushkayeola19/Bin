{
 "cells": [
  {
   "cell_type": "markdown",
   "id": "f2f9af58-4fa7-4271-b589-0294c706d992",
   "metadata": {},
   "source": [
    "# Implementation of Clonal selection algorithm using Python. \n",
    "\n",
    "clones are copies of the best individuals."
   ]
  },
  {
   "cell_type": "code",
   "execution_count": 1,
   "id": "d900aab7-9bb9-429e-9939-98ed9b1cac66",
   "metadata": {},
   "outputs": [],
   "source": [
    "import numpy as np"
   ]
  },
  {
   "cell_type": "code",
   "execution_count": 5,
   "id": "c8f57879-0ce2-4de4-a4ce-7e434d4d2d55",
   "metadata": {},
   "outputs": [],
   "source": [
    "# Define the Sphere function to be optimized\n",
    "def sphere_function(x):\n",
    "    return np.sum(x**2)"
   ]
  },
  {
   "cell_type": "code",
   "execution_count": 6,
   "id": "11d09b66-9007-46d1-bceb-41d9e86d1212",
   "metadata": {},
   "outputs": [],
   "source": [
    "# Define the Clonal Selection Algorithm\n",
    "def clonal_selection_algorithm(objective_function, dim, pop_size, max_iter, mutation_rate):\n",
    "    population = np.random.uniform(-5, 5, size=(pop_size, dim))\n",
    "    \n",
    "    for iter in range(max_iter):\n",
    "        fitness = np.array([objective_function(ind) for ind in population])\n",
    "        sorted_indices = np.argsort(fitness)\n",
    "        population = population[sorted_indices]\n",
    "        fitness = fitness[sorted_indices]\n",
    "        \n",
    "        num_clones = int(pop_size * 0.5)\n",
    "        clones = population[:num_clones]\n",
    "        \n",
    "        mutated_clones = clones + np.random.normal(scale=mutation_rate, size=clones.shape)\n",
    "        \n",
    "        # Select best individuals, not worst\n",
    "        new_population = np.vstack((population[:num_clones], mutated_clones))\n",
    "        population = new_population\n",
    "    \n",
    "    # Recalculate final fitness\n",
    "    final_fitness = np.array([objective_function(ind) for ind in population])\n",
    "    best_solution = population[np.argmin(final_fitness)]\n",
    "    best_fitness = final_fitness.min()\n",
    "    \n",
    "    return best_solution, best_fitness"
   ]
  },
  {
   "cell_type": "code",
   "execution_count": 7,
   "id": "51764d23-c8d2-4ab1-af4e-d356d054f38c",
   "metadata": {},
   "outputs": [
    {
     "name": "stdout",
     "output_type": "stream",
     "text": [
      "Best solution: [ 0.00620457  0.03427888  0.09651914  0.05983775  0.05097352 -0.01514752\n",
      "  0.029837   -0.02828456  0.00219564 -0.02556194]\n",
      "Best fitness: 0.019286283225938748\n"
     ]
    }
   ],
   "source": [
    "# Parameters\n",
    "dim = 10\n",
    "pop_size = 100\n",
    "max_iter = 100\n",
    "mutation_rate = 0.1\n",
    "\n",
    "# Run\n",
    "best_solution, best_fitness = clonal_selection_algorithm(sphere_function, dim, pop_size, max_iter, mutation_rate)\n",
    "\n",
    "print(\"Best solution:\", best_solution)\n",
    "print(\"Best fitness:\", best_fitness)"
   ]
  },
  {
   "cell_type": "markdown",
   "id": "e9c6538d-146c-439c-b55c-d3cb98a91c44",
   "metadata": {},
   "source": [
    "Q: What is the Clonal Selection Algorithm (CSA)?\n",
    "A: CSA is an optimization algorithm inspired by the natural immune system. It works by selecting the best individuals (antibodies), cloning them, introducing mutations in the clones, and selecting the best among the mutated and original population.\n",
    "\n",
    "Q: What is the purpose of the mutation step in CSA?\n",
    "A: Mutation introduces diversity into the population, helping the algorithm explore new solutions and avoid getting stuck in local minima.\n",
    "\n",
    "Q: Why do we clone the best individuals in CSA?\n",
    "A: Cloning amplifies good solutions so they have more influence in the next generation. It simulates the immune system’s way of increasing effective antibodies.\n",
    "\n",
    "Q: What kind of problems can CSA solve?\n",
    "A: CSA can solve numerical optimization problems, feature selection, machine learning hyperparameter tuning, and more.\n",
    "\n",
    "Q: Why do we sort the population based on fitness?\n",
    "A: Sorting helps in selecting the best solutions to clone and mutate. It ensures that better solutions get more chances in future generations.\n",
    "\n",
    "Q: How is CSA different from Genetic Algorithm (GA)?\n",
    "A: CSA relies on cloning and mutation without crossover, while GA uses selection, crossover, and mutation."
   ]
  },
  {
   "cell_type": "code",
   "execution_count": null,
   "id": "4a0afd5e-088c-49a8-abb5-efedca975923",
   "metadata": {},
   "outputs": [],
   "source": []
  }
 ],
 "metadata": {
  "kernelspec": {
   "display_name": "Python 3 (ipykernel)",
   "language": "python",
   "name": "python3"
  },
  "language_info": {
   "codemirror_mode": {
    "name": "ipython",
    "version": 3
   },
   "file_extension": ".py",
   "mimetype": "text/x-python",
   "name": "python",
   "nbconvert_exporter": "python",
   "pygments_lexer": "ipython3",
   "version": "3.11.11"
  }
 },
 "nbformat": 4,
 "nbformat_minor": 5
}
