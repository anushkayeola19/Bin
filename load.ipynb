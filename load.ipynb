{
 "cells": [
  {
   "cell_type": "code",
   "execution_count": 6,
   "id": "f4f3a751-fe42-4486-9fa1-4c0add668559",
   "metadata": {},
   "outputs": [],
   "source": [
    "def create_server(name, weight):\n",
    "    return {\"name\": name, \"weight\": weight, \"current_weight\": 0}\n",
    "\n",
    "def create_load_balancer(servers):\n",
    "    total_weight = sum(server[\"weight\"] for server in servers)\n",
    "    return {\"servers\": servers, \"total_weight\": total_weight}\n",
    "\n",
    "def add_server(load_balancer, server):\n",
    "    load_balancer[\"servers\"].append(server)\n",
    "    load_balancer[\"total_weight\"] += server[\"weight\"]    "
   ]
  },
  {
   "cell_type": "code",
   "execution_count": 7,
   "id": "0413b243-e100-4968-ac57-3d414b0c91af",
   "metadata": {},
   "outputs": [],
   "source": [
    "def get_next_server(load_balancer):\n",
    "    best_server = None\n",
    "    for server in load_balancer[\"servers\"]:\n",
    "        server[\"current_weight\"] += server[\"weight\"]\n",
    "        if best_server is None or server[\"current_weight\"] > best_server[\"current_weight\"]:\n",
    "            best_server = server\n",
    "    best_server[\"current_weight\"] -= load_balancer[\"total_weight\"]\n",
    "    return best_server"
   ]
  },
  {
   "cell_type": "code",
   "execution_count": 8,
   "id": "ce3c41d5-cd11-49ef-a373-3043a7617451",
   "metadata": {},
   "outputs": [],
   "source": [
    "def prompt_server_info(index):\n",
    "    name = input(\"Enter the name of server \" + str(index) + \": \")\n",
    "    weight = int(input(\"Enter the weight of server \" + str(index) + \": \"))\n",
    "    return create_server(name, weight)"
   ]
  },
  {
   "cell_type": "code",
   "execution_count": 9,
   "id": "ae22ab6f-024e-4092-bc84-7a07890b3189",
   "metadata": {},
   "outputs": [],
   "source": [
    "def assign_load(load_balancer, i):\n",
    "    next_server = get_next_server(load_balancer)\n",
    "    print(\"Load\", i, \"assigned to server:\", next_server[\"name\"])"
   ]
  },
  {
   "cell_type": "code",
   "execution_count": 10,
   "id": "4ea00d76-68df-46b8-9df0-7c4fd43d66f6",
   "metadata": {},
   "outputs": [
    {
     "name": "stdin",
     "output_type": "stream",
     "text": [
      "Enter the number of servers:  4\n",
      "Enter the name of server 1:  server1\n",
      "Enter the weight of server 1:  3\n",
      "Enter the name of server 2:  server3\n",
      "Enter the weight of server 2:  2\n",
      "Enter the name of server 3:  server2\n",
      "Enter the weight of server 3:  1\n",
      "Enter the name of server 4:  server4\n",
      "Enter the weight of server 4:  4\n",
      "Enter the number of loads:  9\n"
     ]
    },
    {
     "name": "stdout",
     "output_type": "stream",
     "text": [
      "\n",
      "Load balancing result:\n",
      "Load 1 assigned to server: server4\n",
      "Load 2 assigned to server: server1\n",
      "Load 3 assigned to server: server3\n",
      "Load 4 assigned to server: server4\n",
      "Load 5 assigned to server: server1\n",
      "Load 6 assigned to server: server2\n",
      "Load 7 assigned to server: server4\n",
      "Load 8 assigned to server: server3\n",
      "Load 9 assigned to server: server1\n"
     ]
    }
   ],
   "source": [
    "if __name__ == \"__main__\":\n",
    "    servers = []\n",
    "    num_servers = int(input(\"Enter the number of servers: \"))\n",
    "    for i in range(1, num_servers + 1):\n",
    "        servers.append(prompt_server_info(i))\n",
    "\n",
    "    lb = create_load_balancer(servers)\n",
    "\n",
    "    num_loads = int(input(\"Enter the number of loads: \"))\n",
    "\n",
    "    print(\"\\nLoad balancing result:\")\n",
    "    for i in range(1, num_loads + 1):\n",
    "        assign_load(lb, i)"
   ]
  },
  {
   "cell_type": "code",
   "execution_count": null,
   "id": "a69a6a1d-5e44-4939-8469-814462f8e460",
   "metadata": {},
   "outputs": [],
   "source": []
  }
 ],
 "metadata": {
  "kernelspec": {
   "display_name": "Python 3 (ipykernel)",
   "language": "python",
   "name": "python3"
  },
  "language_info": {
   "codemirror_mode": {
    "name": "ipython",
    "version": 3
   },
   "file_extension": ".py",
   "mimetype": "text/x-python",
   "name": "python",
   "nbconvert_exporter": "python",
   "pygments_lexer": "ipython3",
   "version": "3.11.11"
  }
 },
 "nbformat": 4,
 "nbformat_minor": 5
}
