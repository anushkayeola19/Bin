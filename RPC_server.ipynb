{
 "cells": [
  {
   "cell_type": "code",
   "execution_count": null,
   "id": "df3ce8e4-3663-407c-b3d3-6b1e09a1d445",
   "metadata": {},
   "outputs": [
    {
     "name": "stdout",
     "output_type": "stream",
     "text": [
      "Server started on http://localhost:8000\n"
     ]
    },
    {
     "name": "stderr",
     "output_type": "stream",
     "text": [
      "127.0.0.1 - - [08/May/2025 23:53:35] \"POST / HTTP/1.1\" 200 -\n",
      "127.0.0.1 - - [08/May/2025 23:54:27] code 501, message Unsupported method ('GET')\n",
      "127.0.0.1 - - [08/May/2025 23:54:27] \"GET / HTTP/1.1\" 501 -\n",
      "127.0.0.1 - - [08/May/2025 23:54:28] code 501, message Unsupported method ('GET')\n",
      "127.0.0.1 - - [08/May/2025 23:54:28] \"GET /favicon.ico HTTP/1.1\" 501 -\n",
      "127.0.0.1 - - [08/May/2025 23:56:11] \"POST / HTTP/1.1\" 200 -\n"
     ]
    }
   ],
   "source": [
    "import xmlrpc.server\n",
    "\n",
    "def factorial(n):\n",
    "    if n == 0:\n",
    "        return 1\n",
    "    else:\n",
    "        return n * factorial(n-1)\n",
    "\n",
    "server = xmlrpc.server.SimpleXMLRPCServer(('localhost', 8000))\n",
    "server.register_function(factorial)\n",
    "print(\"Server started on http://localhost:8000\")\n",
    "server.serve_forever()"
   ]
  },
  {
   "cell_type": "markdown",
   "id": "041a02fb-b118-4210-87c3-1172b6fb069d",
   "metadata": {},
   "source": [
    "1. What is RPC?\n",
    "Answer:\n",
    "RPC (Remote Procedure Call) is a protocol that allows a program to execute a procedure (function) on another machine as if it were a local function call.\n",
    "\n",
    "2. How does RPC work?\n",
    "Answer:\n",
    "\n",
    "The client calls a local stub (proxy).\n",
    "\n",
    "The stub marshals (packs) data and sends it over the network.\n",
    "\n",
    "The server receives, unmarshals the data, and calls the actual function.\n",
    "\n",
    "The result is marshalled and sent back to the client.\n",
    "\n",
    "3. What is marshalling and unmarshalling in RPC?\n",
    "Answer:\n",
    "\n",
    "Marshalling: Converting function parameters into a standard format for transmission.\n",
    "\n",
    "Unmarshalling: Converting received data back into usable program variables.\n",
    "\n",
    "4. What are stubs in RPC?\n",
    "Answer:\n",
    "Stubs are auto-generated code that acts as an interface between the client and server.\n",
    "\n",
    "Client stub: Sends requests.\n",
    "\n",
    "Server stub: Receives requests and calls the real function.\n",
    "\n",
    "5. What are the types of RPC?\n",
    "Answer:\n",
    "\n",
    "XML-RPC: Uses XML over HTTP.\n",
    "\n",
    "JSON-RPC: Uses JSON.\n",
    "\n",
    "gRPC: Modern RPC using Protocol Buffers (fast and efficient).\n",
    "\n",
    "Java RMI: Java-specific RPC."
   ]
  },
  {
   "cell_type": "code",
   "execution_count": null,
   "id": "7044f184-fde5-48f1-a614-8b1051d4f184",
   "metadata": {},
   "outputs": [],
   "source": []
  }
 ],
 "metadata": {
  "kernelspec": {
   "display_name": "Python 3 (ipykernel)",
   "language": "python",
   "name": "python3"
  },
  "language_info": {
   "codemirror_mode": {
    "name": "ipython",
    "version": 3
   },
   "file_extension": ".py",
   "mimetype": "text/x-python",
   "name": "python",
   "nbconvert_exporter": "python",
   "pygments_lexer": "ipython3",
   "version": "3.11.11"
  }
 },
 "nbformat": 4,
 "nbformat_minor": 5
}
